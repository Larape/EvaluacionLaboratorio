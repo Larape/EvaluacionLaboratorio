{
  "cells": [
    {
      "cell_type": "markdown",
      "metadata": {
        "id": "view-in-github",
        "colab_type": "text"
      },
      "source": [
        "<a href=\"https://colab.research.google.com/github/Larape/EvaluacionLaboratorio/blob/main/Pr%C3%A1ctico_Python.ipynb\" target=\"_parent\"><img src=\"https://colab.research.google.com/assets/colab-badge.svg\" alt=\"Open In Colab\"/></a>"
      ]
    },
    {
      "cell_type": "markdown",
      "id": "941e8954",
      "metadata": {
        "id": "941e8954"
      },
      "source": [
        "# Ejercicios de Tipos de Datos Simples\n",
        "\n",
        "0. Escribir un programa que muestre por pantalla la cadena ¡Hola Mundo!."
      ]
    },
    {
      "cell_type": "code",
      "execution_count": null,
      "id": "9bbc1fd7",
      "metadata": {
        "colab": {
          "base_uri": "https://localhost:8080/"
        },
        "id": "9bbc1fd7",
        "outputId": "35f6be2d-3224-4c34-9172-4756f5297772"
      },
      "outputs": [
        {
          "output_type": "stream",
          "name": "stdout",
          "text": [
            "Hola Mundo\n"
          ]
        }
      ],
      "source": [
        "print (\"Hola Mundo\")"
      ]
    },
    {
      "cell_type": "markdown",
      "id": "f0519f5c",
      "metadata": {
        "id": "f0519f5c"
      },
      "source": [
        "1. Escribir un programa que pregunte el nombre del usuario en la consola y después de que el usuario lo introduzca muestre por pantalla la cadena ¡Hola <nombre>!, donde <nombre> es el nombre que el usuario haya introducido."
      ]
    },
    {
      "cell_type": "code",
      "execution_count": null,
      "id": "65f9ab97",
      "metadata": {
        "colab": {
          "base_uri": "https://localhost:8080/"
        },
        "id": "65f9ab97",
        "outputId": "58067815-21f5-4ae6-aff4-14a5c2ea116a"
      },
      "outputs": [
        {
          "output_type": "stream",
          "name": "stdout",
          "text": [
            "Ingrese su nombrelara\n",
            "Hola, lara\n"
          ]
        }
      ],
      "source": [
        "miinput = input(\"Ingrese su nombre\")\n",
        "print (\"Hola,\" , miinput)"
      ]
    },
    {
      "cell_type": "markdown",
      "id": "4ba0fe88",
      "metadata": {
        "id": "4ba0fe88"
      },
      "source": [
        "2. Escribir un programa que pregunte al usuario por el número de horas trabajadas y el coste por hora. Después debe mostrar por pantalla la paga que le corresponde."
      ]
    },
    {
      "cell_type": "code",
      "execution_count": null,
      "id": "f5872dc8",
      "metadata": {
        "colab": {
          "base_uri": "https://localhost:8080/"
        },
        "id": "f5872dc8",
        "outputId": "3a43966a-9e80-4a86-fcac-373cd762b8ca"
      },
      "outputs": [
        {
          "output_type": "stream",
          "name": "stdout",
          "text": [
            "Ingrese la cantidad de horas trabajadas5\n",
            "Ingrese el coste por hora4\n",
            "La paga que le correspone es, 20\n"
          ]
        }
      ],
      "source": [
        "horas = input(\"Ingrese la cantidad de horas trabajadas\")\n",
        "coste = input(\"Ingrese el coste por hora\")\n",
        "\n",
        "print (\"La paga que le correspone es,\" , int(horas) * int(coste))"
      ]
    },
    {
      "cell_type": "markdown",
      "id": "e0c3c4b8",
      "metadata": {
        "id": "e0c3c4b8"
      },
      "source": [
        "3. Escribir un programa que lea un entero positivo, **n**, introducido por el usuario y después muestre en pantalla la suma de todos los enteros desde 1 hasta **n**. La suma de los **n** primeros enteros positivos puede ser calculada de la siguiente forma: $$ suma = \\frac{n(n+1)}{2}$$"
      ]
    },
    {
      "cell_type": "code",
      "execution_count": null,
      "id": "b65acefb",
      "metadata": {
        "id": "b65acefb"
      },
      "outputs": [],
      "source": [
        "n = int(input(\"Introduce un entero positivo: \"))\n",
        "suma = n * (n + 1) // 2\n",
        "print(suma)\n"
      ]
    },
    {
      "cell_type": "markdown",
      "id": "37474619",
      "metadata": {
        "id": "37474619"
      },
      "source": [
        "4. Escribir un programa que pregunte al usuario una cantidad a invertir, el interés anual y el número de años, y muestre por pantalla el capital obtenido en la inversión."
      ]
    },
    {
      "cell_type": "code",
      "execution_count": null,
      "id": "aa8524c9",
      "metadata": {
        "id": "aa8524c9"
      },
      "outputs": [],
      "source": [
        "cant_inv = float(input(\"Ingrese cantidad a invertir \"))\n",
        "interes = float(input(\"Ingrese el interés anual de la inversión \"))\n",
        "anios= int(input(\"Ingrese la cantidad de años que dejará el dinero invirtiendose \"))\n",
        "\n",
        "capital= cant_inv + (cant_inv * interes) * anios\n",
        "print (\"El capital obtenido en la inversión es:\" , capital)"
      ]
    },
    {
      "cell_type": "markdown",
      "id": "77758fb5",
      "metadata": {
        "id": "77758fb5"
      },
      "source": [
        "5. Una juguetería tiene mucho éxito en dos de sus productos: payasos y muñecas. Suele hacer venta por correo y la empresa de logística les cobra por peso de cada paquete así que deben calcular el peso de los payasos y muñecas que saldrán en cada paquete a demanda. Cada payaso pesa 112 g y cada muñeca 75 g. Escribir un programa que lea el número de payasos y muñecas vendidos en el último pedido y calcule el peso total del paquete que será enviado."
      ]
    },
    {
      "cell_type": "code",
      "execution_count": null,
      "id": "556a77e6",
      "metadata": {
        "id": "556a77e6",
        "colab": {
          "base_uri": "https://localhost:8080/"
        },
        "outputId": "99615561-6ed7-4dfe-f3e7-898b217c87c1"
      },
      "outputs": [
        {
          "output_type": "stream",
          "name": "stdout",
          "text": [
            "Ingrese la cantidad de payasos del ultimo pedido 5\n",
            "Ingrese la cantidad de muñecas del ultimo pedido 46\n",
            "El peso total del paquete es de: 4010\n"
          ]
        }
      ],
      "source": [
        "cant_payasos = int(input(\"Ingrese la cantidad de payasos del ultimo pedido \"))\n",
        "cant_muniecas = int(input(\"Ingrese la cantidad de muñecas del ultimo pedido \"))\n",
        "\n",
        "peso_total = (cant_payasos * 112) + (cant_muniecas * 75)\n",
        "print (\"El peso total del paquete es de:\" , peso_total, \"gramos\")"
      ]
    },
    {
      "cell_type": "markdown",
      "id": "9bd44acd",
      "metadata": {
        "id": "9bd44acd"
      },
      "source": [
        "6. Imagina que acabas de abrir una nueva cuenta de ahorros que te ofrece el 4% de interés al año. Estos ahorros debido a intereses, que no se cobran hasta finales de año, se te añaden al balance final de tu cuenta de ahorros. Escribir un programa que comience leyendo la cantidad de dinero depositada en la cuenta de ahorros, introducida por el usuario. Después el programa debe calcular y mostrar por pantalla la cantidad de ahorros tras el primer, segundo y tercer años. Redondear cada cantidad a dos decimales."
      ]
    },
    {
      "cell_type": "code",
      "execution_count": null,
      "id": "10766284",
      "metadata": {
        "id": "10766284",
        "colab": {
          "base_uri": "https://localhost:8080/"
        },
        "outputId": "6de4b320-9af3-4c7c-a79a-bb8a51d771b5"
      },
      "outputs": [
        {
          "output_type": "stream",
          "name": "stdout",
          "text": [
            "Ingrese la cantidad de dinero depositada en la cuenta de ahorros 50.578\n",
            "El ahorro del primer año es: 52.6 $\n",
            "El ahorro del segundo año es: 54.71 $\n",
            "El ahorro del tercer año es: 56.89 $\n"
          ]
        }
      ],
      "source": [
        "dinero_depositado = float(input(\"Ingrese la cantidad de dinero depositada en la cuenta de ahorros \"))\n",
        "\n",
        "ahorro_1 = dinero_depositado + (dinero_depositado * 0.04)\n",
        "ahorro_2 = ahorro_1 + (ahorro_1 * 0.04)\n",
        "ahorro_3 = ahorro_2 + (ahorro_2 * 0.04)\n",
        "\n",
        "print (\"El ahorro del primer año es:\" , round(ahorro_1, 2),\"$\")\n",
        "print(\"El ahorro del segundo año es:\" , round(ahorro_2, 2),\"$\")\n",
        "print (\"El ahorro del tercer año es:\" , round(ahorro_3, 2),\"$\")"
      ]
    },
    {
      "cell_type": "markdown",
      "id": "6f64880a",
      "metadata": {
        "id": "6f64880a"
      },
      "source": [
        "7. Una panadería vende barras de pan a 3.49€ cada una. El pan que no es el día tiene un descuento del 60%. Escribir un programa que comience leyendo el número de barras vendidas que no son del día. Después el programa debe mostrar el precio habitual de una barra de pan, el descuento que se le hace por no ser fresca y el coste final total."
      ]
    },
    {
      "cell_type": "code",
      "execution_count": null,
      "id": "70e081d4",
      "metadata": {
        "id": "70e081d4",
        "colab": {
          "base_uri": "https://localhost:8080/"
        },
        "outputId": "3bc0833e-2cc5-4936-fcb2-d9dd1b06a479"
      },
      "outputs": [
        {
          "output_type": "stream",
          "name": "stdout",
          "text": [
            "Ingrese cantidad de barras de pan 5\n",
            "Precio habitual de una barra de pan: 3.49\n",
            "Costo de tu pedido si el pan fuese fresco:  17.450000000000003\n",
            "Descuento aplicado por barra por no ser pan del dia: 2.094\n",
            "Costo final total: 6.98\n"
          ]
        }
      ],
      "source": [
        "barras = int(input(\"Ingrese cantidad de barras de pan \"))\n",
        "precio_barra= float(3.49)\n",
        "print (\"Precio habitual de una barra de pan:\", precio_barra)\n",
        "print (\"Costo de tu pedido si el pan fuese fresco: \" , precio_barra * barras)\n",
        "dcto = float((precio_barra * 0.6))\n",
        "print (\"Descuento aplicado por barra por no ser pan del dia:\", dcto )\n",
        "costo_final = float((precio_barra - dcto)* barras)\n",
        "print (\"Costo final total:\", round(costo_final,2))\n"
      ]
    },
    {
      "cell_type": "markdown",
      "id": "7746f986",
      "metadata": {
        "id": "7746f986"
      },
      "source": [
        "# Ejercicios de Condicionales\n",
        "\n",
        "0. Escribir un programa que pregunte al usuario su edad y muestre por pantalla si es mayor de edad o no."
      ]
    },
    {
      "cell_type": "code",
      "execution_count": null,
      "id": "1f904a9a",
      "metadata": {
        "colab": {
          "base_uri": "https://localhost:8080/"
        },
        "id": "1f904a9a",
        "outputId": "f03b6270-1420-4d1a-e94f-6274ec2a5d3b"
      },
      "outputs": [
        {
          "output_type": "stream",
          "name": "stdout",
          "text": [
            "Ingrese su edad14\n",
            "Es menor de edad\n"
          ]
        }
      ],
      "source": [
        "edad = input(\"Ingrese su edad \")\n",
        "\n",
        "if int(edad) >= 18:\n",
        "    print(\"Es mayor de edad\")\n",
        "else:\n",
        "    print(\"Es menor de edad\")"
      ]
    },
    {
      "cell_type": "markdown",
      "id": "ba028cf3",
      "metadata": {
        "id": "ba028cf3"
      },
      "source": [
        "1. En una determinada empresa, sus empleados son evaluados al final de cada año. Los puntos que pueden obtener en la evaluación comienzan en 0.0 y pueden ir aumentando, traduciéndose en mejores beneficios. Los puntos que pueden conseguir los empleados pueden ser 0.0, 0.4, 0.6 o más, pero no valores intermedios entre las cifras mencionadas. A continuación se muestra una tabla con los niveles correspondientes a cada puntuación. La cantidad de dinero conseguida en cada nivel es de 2.400€ multiplicada por la puntuación del nivel.\n",
        "\n",
        "| Nivel | Puntuación |\n",
        "| --- | --- |\n",
        "| Inaceptable | 0.0 |\n",
        "| Aceptable | 0.4 |\n",
        "| Meritorio | 0.6 o más |\n",
        "\n",
        "Escribir un programa que lea la puntuación del usuario e indique su nivel de rendimiento, así como la cantidad de dinero que recibirá el usuario."
      ]
    },
    {
      "cell_type": "code",
      "execution_count": null,
      "id": "46ba98d2",
      "metadata": {
        "id": "46ba98d2",
        "colab": {
          "base_uri": "https://localhost:8080/"
        },
        "outputId": "654393c0-6e3a-44c6-dadd-6b8c2fa1df05"
      },
      "outputs": [
        {
          "output_type": "stream",
          "name": "stdout",
          "text": [
            "Ingrese su puntuación 0.9\n",
            "su nivel de puntuacion es meritorio, recibirá un bono de:  2160.0\n"
          ]
        }
      ],
      "source": [
        "puntuacion = input(\"Ingrese su puntuación \")\n",
        "if float(puntuacion) == 0.0:\n",
        "  print(\"su nivel de puntuacion es inaceptable, no recibirá dinero\")\n",
        "elif float(puntuacion) == 0.4:\n",
        "  print(\"su nivel de puntuacion es aceptable, recibirá un bono de: \" , float(puntuacion) * 2400)\n",
        "elif float(puntuacion) >= 0.6:\n",
        "  print(\"su nivel de puntuacion es meritorio, recibirá un bono de: \" , float(puntuacion) * 2400)\n",
        "else:\n",
        "  print(\"Ingrese una puntuacion valida\")\n",
        "\n",
        "\n"
      ]
    },
    {
      "cell_type": "markdown",
      "id": "5ee09454",
      "metadata": {
        "id": "5ee09454"
      },
      "source": [
        "2. Escribir un programa para una empresa que tiene salas de juegos para todas las edades y quiere calcular de forma automática el precio que debe cobrar a sus clientes por entrar. El programa debe preguntar al usuario la edad del cliente y mostrar el precio de la entrada. Si el cliente es menor de 4 años puede entrar gratis, si tiene entre 4 y 18 años debe pagar 5€ y si es mayor de 18 años, 10€."
      ]
    },
    {
      "cell_type": "code",
      "execution_count": null,
      "id": "a0dc2457",
      "metadata": {
        "id": "a0dc2457"
      },
      "outputs": [],
      "source": [
        "edad = int(input(\"Ingrese su edad \"))}\n",
        "if edad < 4:\n",
        "  print(\"Puede entrar gratis\")\n",
        "elif edad >= 4 and edad <= 18:\n",
        "  print(\"tiene que pagar 5€\")\n",
        "elif edad > 18:\n",
        "  print(\"tiene que pagar 10€\")"
      ]
    },
    {
      "cell_type": "markdown",
      "id": "6b1400f2",
      "metadata": {
        "id": "6b1400f2"
      },
      "source": [
        "3. La pizzería Bella Napoli ofrece pizzas vegetarianas y no vegetarianas a sus clientes. Los ingredientes para cada tipo de pizza aparecen a continuación.\n",
        "\n",
        "Ingredientes vegetarianos: Pimiento y tofu.\n",
        "Ingredientes no vegetarianos: Peperoni, Jamón y Salmón.\n",
        "Escribir un programa que pregunte al usuario si quiere una pizza vegetariana o no, y en función de su respuesta le muestre un menú con los ingredientes disponibles para que elija. Solo se puede eligir un ingrediente además de la mozzarella y el tomate que están en todas la pizzas. Al final se debe mostrar por pantalla si la pizza elegida es vegetariana o no y todos los ingredientes que lleva."
      ]
    },
    {
      "cell_type": "code",
      "source": [
        "respuesta = input(\"¿Quiere una pizza vegetariana? S/N\")\n",
        "if respuesta == \"S\":\n",
        "  ingrediente = input(\"Elija un ingrediente: pimiento o tofu\")\n",
        "  print(\"Su pizza es vegetariana y lleva: mozzarella, tomate y \" , ingrediente)\n",
        "elif respuesta == \"N\":\n",
        "  ingrediente = input(\"Elija un ingrediente: peperoni, jamón o salmón\")\n",
        "  print(\"Su pizza no es vegetariana y lleva: mozzarella, tomate y \" , ingrediente)\n",
        "else:\n",
        "  print(\"Ingrese una respuesta valida\")"
      ],
      "metadata": {
        "id": "ShcnzvR5MHPG"
      },
      "id": "ShcnzvR5MHPG",
      "execution_count": null,
      "outputs": []
    },
    {
      "cell_type": "markdown",
      "id": "6a9c0c7b",
      "metadata": {
        "id": "6a9c0c7b"
      },
      "source": [
        "# Ejercicios de Bucles\n",
        "Realizar los ejercicios utilizando **for** y **while**\n",
        "\n",
        "0. Escribir un programa que pida al usuario una palabra y la muestre por pantalla 10 veces."
      ]
    },
    {
      "cell_type": "code",
      "execution_count": null,
      "id": "9f57d8d9",
      "metadata": {
        "id": "9f57d8d9",
        "colab": {
          "base_uri": "https://localhost:8080/"
        },
        "outputId": "9c5de190-2921-4c9c-9581-b649183b84b0"
      },
      "outputs": [
        {
          "output_type": "stream",
          "name": "stdout",
          "text": [
            "Ingrese una palabratomate\n",
            "tomate\n",
            "tomate\n",
            "tomate\n",
            "tomate\n",
            "tomate\n",
            "tomate\n",
            "tomate\n",
            "tomate\n",
            "tomate\n",
            "tomate\n"
          ]
        }
      ],
      "source": [
        "palabra = input(\"Ingrese una palabra \")\n",
        "for i in range(10):\n",
        "  print(palabra)\n"
      ]
    },
    {
      "cell_type": "markdown",
      "id": "6f41451c",
      "metadata": {
        "id": "6f41451c"
      },
      "source": [
        "1. Escribir un programa que muestre por pantalla la tabla de multiplicar del 1 al 10."
      ]
    },
    {
      "cell_type": "code",
      "execution_count": null,
      "id": "67cd29cc",
      "metadata": {
        "id": "67cd29cc",
        "colab": {
          "base_uri": "https://localhost:8080/"
        },
        "outputId": "aaa18616-90df-4ab0-bf1b-7aedb079cd26"
      },
      "outputs": [
        {
          "output_type": "stream",
          "name": "stdout",
          "text": [
            "1 :\n",
            "1 * 1 = 1\n",
            "1 * 2 = 2\n",
            "1 * 3 = 3\n",
            "1 * 4 = 4\n",
            "1 * 5 = 5\n",
            "1 * 6 = 6\n",
            "1 * 7 = 7\n",
            "1 * 8 = 8\n",
            "1 * 9 = 9\n",
            "1 * 10 = 10\n",
            "2 :\n",
            "2 * 1 = 2\n",
            "2 * 2 = 4\n",
            "2 * 3 = 6\n",
            "2 * 4 = 8\n",
            "2 * 5 = 10\n",
            "2 * 6 = 12\n",
            "2 * 7 = 14\n",
            "2 * 8 = 16\n",
            "2 * 9 = 18\n",
            "2 * 10 = 20\n",
            "3 :\n",
            "3 * 1 = 3\n",
            "3 * 2 = 6\n",
            "3 * 3 = 9\n",
            "3 * 4 = 12\n",
            "3 * 5 = 15\n",
            "3 * 6 = 18\n",
            "3 * 7 = 21\n",
            "3 * 8 = 24\n",
            "3 * 9 = 27\n",
            "3 * 10 = 30\n",
            "4 :\n",
            "4 * 1 = 4\n",
            "4 * 2 = 8\n",
            "4 * 3 = 12\n",
            "4 * 4 = 16\n",
            "4 * 5 = 20\n",
            "4 * 6 = 24\n",
            "4 * 7 = 28\n",
            "4 * 8 = 32\n",
            "4 * 9 = 36\n",
            "4 * 10 = 40\n",
            "5 :\n",
            "5 * 1 = 5\n",
            "5 * 2 = 10\n",
            "5 * 3 = 15\n",
            "5 * 4 = 20\n",
            "5 * 5 = 25\n",
            "5 * 6 = 30\n",
            "5 * 7 = 35\n",
            "5 * 8 = 40\n",
            "5 * 9 = 45\n",
            "5 * 10 = 50\n",
            "6 :\n",
            "6 * 1 = 6\n",
            "6 * 2 = 12\n",
            "6 * 3 = 18\n",
            "6 * 4 = 24\n",
            "6 * 5 = 30\n",
            "6 * 6 = 36\n",
            "6 * 7 = 42\n",
            "6 * 8 = 48\n",
            "6 * 9 = 54\n",
            "6 * 10 = 60\n",
            "7 :\n",
            "7 * 1 = 7\n",
            "7 * 2 = 14\n",
            "7 * 3 = 21\n",
            "7 * 4 = 28\n",
            "7 * 5 = 35\n",
            "7 * 6 = 42\n",
            "7 * 7 = 49\n",
            "7 * 8 = 56\n",
            "7 * 9 = 63\n",
            "7 * 10 = 70\n",
            "8 :\n",
            "8 * 1 = 8\n",
            "8 * 2 = 16\n",
            "8 * 3 = 24\n",
            "8 * 4 = 32\n",
            "8 * 5 = 40\n",
            "8 * 6 = 48\n",
            "8 * 7 = 56\n",
            "8 * 8 = 64\n",
            "8 * 9 = 72\n",
            "8 * 10 = 80\n",
            "9 :\n",
            "9 * 1 = 9\n",
            "9 * 2 = 18\n",
            "9 * 3 = 27\n",
            "9 * 4 = 36\n",
            "9 * 5 = 45\n",
            "9 * 6 = 54\n",
            "9 * 7 = 63\n",
            "9 * 8 = 72\n",
            "9 * 9 = 81\n",
            "9 * 10 = 90\n",
            "10 :\n",
            "10 * 1 = 10\n",
            "10 * 2 = 20\n",
            "10 * 3 = 30\n",
            "10 * 4 = 40\n",
            "10 * 5 = 50\n",
            "10 * 6 = 60\n",
            "10 * 7 = 70\n",
            "10 * 8 = 80\n",
            "10 * 9 = 90\n",
            "10 * 10 = 100\n"
          ]
        }
      ],
      "source": [
        "for i in range(1, 11):\n",
        "  print( i, \":\")\n",
        "  for j in range(1, 11):\n",
        "    print(i, \"*\", j, \"=\", i * j)\n"
      ]
    },
    {
      "cell_type": "markdown",
      "id": "6dcbf56e",
      "metadata": {
        "id": "6dcbf56e"
      },
      "source": [
        "2. Escribir un programa en el que se pregunte al usuario por una frase y una letra, y muestre por pantalla el número de veces que aparece la letra en la frase."
      ]
    },
    {
      "cell_type": "code",
      "execution_count": null,
      "id": "250caf3f",
      "metadata": {
        "id": "250caf3f",
        "colab": {
          "base_uri": "https://localhost:8080/"
        },
        "outputId": "dcea3eb4-ffb0-4634-815a-24a26cb9a2b5"
      },
      "outputs": [
        {
          "output_type": "stream",
          "name": "stdout",
          "text": [
            "Ingrese una frase lara lava\n",
            "Ingrese una letra a\n",
            "La letra  a  aparece  4 veces\n"
          ]
        }
      ],
      "source": [
        "frase = input(\"Ingrese una frase \")\n",
        "letra = input(\"Ingrese una letra \")\n",
        "c = int(0)\n",
        "for i in frase:\n",
        "  if i == letra:\n",
        "    c += 1\n",
        "print(\"La letra \", letra, \" aparece \", c , \"veces\")"
      ]
    },
    {
      "cell_type": "markdown",
      "id": "437b4a42",
      "metadata": {
        "id": "437b4a42"
      },
      "source": [
        "3. Escribir un programa que muestre el eco de todo lo que el usuario introduzca hasta que el usuario escriba “salir” que terminará."
      ]
    },
    {
      "cell_type": "code",
      "source": [
        "entrada = input(\"\")\n",
        "\n",
        "while entrada != \"salir\":\n",
        "    print(entrada)\n",
        "    entrada = input(\"\")\n"
      ],
      "metadata": {
        "colab": {
          "base_uri": "https://localhost:8080/"
        },
        "id": "k5Cpl0AbXgOE",
        "outputId": "99f686e1-aeec-4324-cdd7-381db56ad5bb"
      },
      "id": "k5Cpl0AbXgOE",
      "execution_count": null,
      "outputs": [
        {
          "name": "stdout",
          "output_type": "stream",
          "text": [
            "gra\n",
            "gra\n",
            "ey\n",
            "ey\n",
            "to\n",
            "to\n",
            "ma\n",
            "ma\n",
            "efrff\n",
            "efrff\n",
            "salir\n"
          ]
        }
      ]
    },
    {
      "cell_type": "markdown",
      "id": "21dc00dd",
      "metadata": {
        "id": "21dc00dd"
      },
      "source": [
        "# Ejercicios de Listas y Tuplas\n",
        "\n",
        "1. Escribir un programa que almacene las asignaturas de un curso (por ejemplo Matemáticas, Física, Química, Historia y Lengua) en una lista y la muestre por pantalla."
      ]
    },
    {
      "cell_type": "code",
      "execution_count": null,
      "id": "f9714c83",
      "metadata": {
        "id": "f9714c83",
        "colab": {
          "base_uri": "https://localhost:8080/"
        },
        "outputId": "456bb3ee-ce3c-4b40-82ad-779d75937b8a"
      },
      "outputs": [
        {
          "output_type": "stream",
          "name": "stdout",
          "text": [
            "matematica\n",
            "ciencias sociales\n",
            "fisica\n",
            "quimica\n"
          ]
        }
      ],
      "source": [
        "lista = [\"matematica\", \"ciencias sociales\", \"fisica\", \"quimica\"]\n",
        "for i in lista:\n",
        "  print(i)"
      ]
    },
    {
      "cell_type": "markdown",
      "id": "9dc8de65",
      "metadata": {
        "id": "9dc8de65"
      },
      "source": [
        "2. Escribir un programa que almacene las asignaturas de un curso (por ejemplo Matemáticas, Física, Química, Historia y Lengua) en una lista y la muestre por pantalla el mensaje Yo estudio <asignatura>, donde <asignatura> es cada una de las asignaturas de la lista."
      ]
    },
    {
      "cell_type": "code",
      "execution_count": null,
      "id": "7cff1152",
      "metadata": {
        "id": "7cff1152",
        "colab": {
          "base_uri": "https://localhost:8080/"
        },
        "outputId": "25afa8a1-6668-4c1e-8660-fb89cb02ff42"
      },
      "outputs": [
        {
          "output_type": "stream",
          "name": "stdout",
          "text": [
            "Yo esudio  matematica\n",
            "Yo esudio  ciencias sociales\n",
            "Yo esudio  fisica\n",
            "Yo esudio  quimica\n"
          ]
        }
      ],
      "source": [
        "lista = [\"matematica\", \"ciencias sociales\", \"fisica\", \"quimica\"]\n",
        "for i in lista:\n",
        "  print(\"Yo esudio \", i)"
      ]
    },
    {
      "cell_type": "markdown",
      "id": "f3160dad",
      "metadata": {
        "id": "f3160dad"
      },
      "source": [
        "3. Escribir un programa que almacene las asignaturas de un curso (por ejemplo Matemáticas, Física, Química, Historia y Lengua) en una lista, pregunte al usuario la nota que ha sacado en cada asignatura, y después las muestre por pantalla con el mensaje En <asignatura> has sacado <nota> donde <asignatura> es cada una des las asignaturas de la lista y <nota> cada una de las correspondientes notas introducidas por el usuario."
      ]
    },
    {
      "cell_type": "code",
      "execution_count": null,
      "id": "33826738",
      "metadata": {
        "id": "33826738",
        "colab": {
          "base_uri": "https://localhost:8080/"
        },
        "outputId": "275441ed-9806-43ac-e9fb-bbe9d8c1deb9"
      },
      "outputs": [
        {
          "output_type": "stream",
          "name": "stdout",
          "text": [
            "Ingrese la nota de matematicas 4\n",
            "Ingrese la nota de historia 7\n",
            "Ingrese la nota de fisica 5.5\n",
            "Ingrese la nota de quimica 6\n",
            "En  matematica has sacado 4.0\n",
            "En  ciencias sociales has sacado 7.0\n",
            "En  fisica has sacado 5.5\n",
            "En  quimica has sacado 6.0\n"
          ]
        }
      ],
      "source": [
        "nota_mate = float(input(\"Ingrese la nota de matematicas \"))\n",
        "nota_cs_sociales = float(input(\"Ingrese la nota de ciencias sociales \"))\n",
        "nota_fisica = float(input(\"Ingrese la nota de fisica \"))\n",
        "nota_quimica = float(input(\"Ingrese la nota de quimica \"))\n",
        "\n",
        "lista_notas = [nota_mate, nota_cs_sociales, nota_fisica, nota_quimica]\n",
        "j = int(0)\n",
        "for i in lista:\n",
        "  print (\"En \", i, \"has sacado\", lista_notas[j])\n",
        "  j += 1\n"
      ]
    },
    {
      "cell_type": "markdown",
      "id": "dd72817d",
      "metadata": {
        "id": "dd72817d"
      },
      "source": [
        "4. Escribir un programa que pregunte al usuario los números ganadores de la lotería primitiva, los almacene en una lista y los muestre por pantalla ordenados de menor a mayor."
      ]
    },
    {
      "cell_type": "code",
      "execution_count": null,
      "id": "625cb744",
      "metadata": {
        "id": "625cb744"
      },
      "outputs": [],
      "source": [
        "numeros = []\n",
        "\n",
        "for i in range(6):  # Suponiendo que la lotería tiene 6 números\n",
        "    num = int(input(f\"Ingrese el número ganador {i + 1}: \"))\n",
        "    numeros.append(num)\n",
        "\n",
        "numeros.sort()\n",
        "\n",
        "print(\"Números ganadores ordenados:\", numeros)\n",
        "\n"
      ]
    },
    {
      "cell_type": "markdown",
      "id": "f47179e6",
      "metadata": {
        "id": "f47179e6"
      },
      "source": [
        "5. Escribir un programa que almacene en una lista los números del 1 al 10 y los muestre por pantalla en orden inverso separados por comas."
      ]
    },
    {
      "cell_type": "code",
      "execution_count": null,
      "id": "e6bc38f3",
      "metadata": {
        "id": "e6bc38f3",
        "colab": {
          "base_uri": "https://localhost:8080/"
        },
        "outputId": "06a1bb54-d1d3-4e7e-d55a-9d49979007eb"
      },
      "outputs": [
        {
          "output_type": "stream",
          "name": "stdout",
          "text": [
            "10 , \n",
            "9 , \n",
            "8 , \n",
            "7 , \n",
            "6 , \n",
            "5 , \n",
            "4 , \n",
            "3 , \n",
            "2 , \n",
            "1 , \n"
          ]
        }
      ],
      "source": [
        "lista = [1,2,3,4,5,6,7,8,9,10]\n",
        "for i in range (0,10):\n",
        "  print(lista[9 - i], \", \")"
      ]
    },
    {
      "cell_type": "markdown",
      "id": "4ca73a38",
      "metadata": {
        "id": "4ca73a38"
      },
      "source": [
        "6. Escribir un programa que almacene las asignaturas de un curso (por ejemplo Matemáticas, Física, Química, Historia y Lengua) en una lista, pregunte al usuario la nota que ha sacado en cada asignatura y elimine de la lista las asignaturas aprobadas. Al final el programa debe mostrar por pantalla las asignaturas que el usuario tiene que repetir."
      ]
    },
    {
      "cell_type": "code",
      "execution_count": null,
      "id": "4bc0f050",
      "metadata": {
        "id": "4bc0f050",
        "colab": {
          "base_uri": "https://localhost:8080/"
        },
        "outputId": "9cca5dd2-d32a-4bb0-ccb7-70c25c3eeb7b"
      },
      "outputs": [
        {
          "output_type": "stream",
          "name": "stdout",
          "text": [
            "Ingrese la nota de matematicas 3\n",
            "Ingrese la nota de historia 8\n",
            "Ingrese la nota de fisica 1\n",
            "Ingrese la nota de quimica 5\n",
            "Asignaturas que el usuario tiene que repetir: ['ciencias sociales', 'quimica']\n"
          ]
        }
      ],
      "source": [
        "lista = [\"matematica\", \"ciencias sociales\", \"fisica\", \"quimica\"]\n",
        "nota_mate = float(input(\"Ingrese la nota de matematicas \"))\n",
        "nota_cs_sociales = float(input(\"Ingrese la nota de ciencias sociales \"))\n",
        "nota_fisica = float(input(\"Ingrese la nota de fisica \"))\n",
        "nota_quimica = float(input(\"Ingrese la nota de quimica \"))\n",
        "\n",
        "lista_notas = [nota_mate, nota_cs_sociales, nota_fisica, nota_quimica]\n",
        "j = int(0)\n",
        "for i in lista_notas:\n",
        "  if i < 4:\n",
        "    del lista[j]\n",
        "    j += 1\n",
        "\n",
        "print(\"Asignaturas que el usuario tiene que repetir:\", lista)"
      ]
    },
    {
      "cell_type": "markdown",
      "id": "e422be26",
      "metadata": {
        "id": "e422be26"
      },
      "source": [
        "7. Escribir un programa que almacene el abecedario en una lista, elimine de la lista las letras que ocupen posiciones múltiplos de 3, y muestre por pantalla la lista resultante."
      ]
    },
    {
      "cell_type": "code",
      "execution_count": null,
      "id": "f99b3cab",
      "metadata": {
        "id": "f99b3cab",
        "colab": {
          "base_uri": "https://localhost:8080/"
        },
        "outputId": "040f6d8a-6c24-4a28-bfa5-6b253d16d94e"
      },
      "outputs": [
        {
          "output_type": "stream",
          "name": "stdout",
          "text": [
            "['a', 'b', 'd', 'e', 'g', 'h', 'j', 'k', 'm', 'n', 'p', 'q', 's', 't', 'v', 'w', 'y', 'z']\n"
          ]
        }
      ],
      "source": [
        "abc = [\"a\", \"b\", \"c\", \"d\", \"e\", \"f\", \"g\", \"h\", \"i\", \"j\", \"k\", \"l\", \"m\", \"n\", \"o\", \"p\", \"q\", \"r\", \"s\", \"t\", \"u\", \"v\", \"w\", \"x\", \"y\", \"z\"]\n",
        "abc = [abc[i] for i in range(len(abc)) if (i + 1) % 3 != 0]\n",
        "print(abc)"
      ]
    },
    {
      "cell_type": "markdown",
      "id": "7b85561a",
      "metadata": {
        "id": "7b85561a"
      },
      "source": [
        "8. Escribir un programa que pida al usuario una palabra y muestre por pantalla si es un palíndromo."
      ]
    },
    {
      "cell_type": "code",
      "execution_count": null,
      "id": "afaba32d",
      "metadata": {
        "id": "afaba32d",
        "colab": {
          "base_uri": "https://localhost:8080/"
        },
        "outputId": "101dbf04-a58b-41ac-bda3-821e7be32d73"
      },
      "outputs": [
        {
          "output_type": "stream",
          "name": "stdout",
          "text": [
            "ingrese una palabra: cutex\n",
            "No es palindromo\n"
          ]
        }
      ],
      "source": [
        "palabra = input(\"ingrese una palabra: \")\n",
        "n = len(palabra)\n",
        "pal = bool(False)\n",
        "for i in range(n // 2):\n",
        "  if palabra[i] != palabra[n - 1 - i]:\n",
        "    print (\"No es palindromo\")\n",
        "    break\n",
        "  else:\n",
        "     print (\"es palindromo\")\n",
        "     break"
      ]
    },
    {
      "cell_type": "markdown",
      "id": "9a53e8de",
      "metadata": {
        "id": "9a53e8de"
      },
      "source": [
        "9. Escribir un programa que pida al usuario una palabra y muestre por pantalla el número de veces que contiene cada vocal."
      ]
    },
    {
      "cell_type": "code",
      "execution_count": null,
      "id": "b1dfc2e7",
      "metadata": {
        "id": "b1dfc2e7",
        "colab": {
          "base_uri": "https://localhost:8080/"
        },
        "outputId": "8bf56e95-fa6a-4b22-a973-4ba601a02f09"
      },
      "outputs": [
        {
          "output_type": "stream",
          "name": "stdout",
          "text": [
            "ingrese una palabra: arbol\n",
            "a:  1\n",
            "e:  0\n",
            "i:  0\n",
            "o:  1\n",
            "u:  0\n"
          ]
        }
      ],
      "source": [
        "palabra = input(\"ingrese una palabra: \")\n",
        "contador_a = int(0)\n",
        "Contador_e = int(0)\n",
        "contador_i = int(0)\n",
        "contador_o = int(0)\n",
        "contador_u = int(0)\n",
        "\n",
        "for i in palabra:\n",
        "  if i == \"a\":\n",
        "    contador_a += 1\n",
        "  elif i == \"e\":\n",
        "    Contador_e += 1\n",
        "  elif i == \"i\":\n",
        "    contador_i += 1\n",
        "  elif i == \"o\":\n",
        "    contador_o += 1\n",
        "  elif i == \"u\":\n",
        "    contador_u += 1\n",
        "print(\"a: \", contador_a)\n",
        "print(\"e: \", Contador_e)\n",
        "print(\"i: \", contador_i)\n",
        "print(\"o: \", contador_o)\n",
        "print(\"u: \", contador_u)"
      ]
    },
    {
      "cell_type": "markdown",
      "id": "55cdccd9",
      "metadata": {
        "id": "55cdccd9"
      },
      "source": [
        "10. Escribir un programa que almacene en una lista los siguientes precios, 50, 75, 46, 22, 80, 65, 8, y muestre por pantalla el menor y el mayor de los precios."
      ]
    },
    {
      "cell_type": "code",
      "execution_count": null,
      "id": "9451e30c",
      "metadata": {
        "id": "9451e30c",
        "colab": {
          "base_uri": "https://localhost:8080/"
        },
        "outputId": "2083b0b6-e326-4e44-eae3-03757c22c437"
      },
      "outputs": [
        {
          "output_type": "stream",
          "name": "stdout",
          "text": [
            "Menor precio: 8\n",
            "Mayor precio: 80\n"
          ]
        }
      ],
      "source": [
        "precios = [50, 75, 46, 22, 80, 65, 8]\n",
        "print(\"Menor precio:\", min(precios))\n",
        "print(\"Mayor precio:\", max(precios))"
      ]
    },
    {
      "cell_type": "markdown",
      "id": "8032a13d",
      "metadata": {
        "id": "8032a13d"
      },
      "source": [
        "11. Escribir un programa que almacene los vectores (1,2,3) y (-1,0,2) en dos listas y muestre por pantalla su producto escalar."
      ]
    },
    {
      "cell_type": "code",
      "execution_count": null,
      "id": "7f82d37a",
      "metadata": {
        "id": "7f82d37a",
        "colab": {
          "base_uri": "https://localhost:8080/"
        },
        "outputId": "c7307989-ad70-49af-f44f-8ef8c2dde86b"
      },
      "outputs": [
        {
          "output_type": "stream",
          "name": "stdout",
          "text": [
            "Producto escalar: 5\n"
          ]
        }
      ],
      "source": [
        "vec_1 = [1,2,3]\n",
        "vec_2 = [-1, 0, 2]\n",
        "producto_escalar = vec_1[0] * vec_2[0] + vec_1[1] * vec_2[1] + vec_1[2] * vec_2[2]\n",
        "print(\"Producto escalar:\", producto_escalar)"
      ]
    },
    {
      "cell_type": "markdown",
      "id": "350472f1",
      "metadata": {
        "id": "350472f1"
      },
      "source": [
        "12. Escribir un programa que almacene las matrices\n",
        "$$ A =\\left(\\begin{array}{cc}\n",
        "1 & 2 & 3\\\\\n",
        "4 & 5 & 6\n",
        "\\end{array}\\right)\n",
        "B = \\left(\\begin{array}{cc}\n",
        "-1 & 0\\\\\n",
        "0 & 1\\\\\n",
        "1 & 1\n",
        "\\end{array}\\right)\n",
        "$$\n",
        "en una lista y muestre por pantalla su producto.\n",
        "Nota: Para representar matrices mediante listas usar listas anidadas, representando cada vector fila en una lista."
      ]
    },
    {
      "cell_type": "code",
      "execution_count": null,
      "id": "8d318963",
      "metadata": {
        "id": "8d318963",
        "colab": {
          "base_uri": "https://localhost:8080/"
        },
        "outputId": "c03cfdcc-0fed-4c8b-cebd-f8deb10c821c"
      },
      "outputs": [
        {
          "output_type": "stream",
          "name": "stdout",
          "text": [
            "Producto de las matrices A y B:\n",
            "[2, 5]\n",
            "[2, 11]\n"
          ]
        }
      ],
      "source": [
        "A = [[1, 2, 3], [4, 5, 6]]\n",
        "B = [[-1, 0], [0, 1], [1, 1]]\n",
        "producto = [[0, 0], [0, 0]]\n",
        "\n",
        "for i in range(2):\n",
        "    for j in range(2):\n",
        "        for k in range(3):\n",
        "            producto[i][j] += A[i][k] * B[k][j]\n",
        "print(\"Producto de las matrices A y B:\")\n",
        "for fila in producto:\n",
        "    print(fila)"
      ]
    },
    {
      "cell_type": "markdown",
      "id": "d3871ff8",
      "metadata": {
        "id": "d3871ff8"
      },
      "source": [
        "13. Escribir un programa que pregunte por una muestra de números, separados por comas, los guarde en una lista y muestre por pantalla su media y desviación típica."
      ]
    },
    {
      "cell_type": "code",
      "source": [
        "import math\n",
        "numeros_str = input(\"Ingrese una muestra de números separados por comas: \")\n",
        "numeros = [float(n) for n in numeros_str.split(\",\")]\n",
        "\n",
        "suma = sum(numeros)\n",
        "n = len(numeros)\n",
        "media = suma / n\n",
        "\n",
        "suma_cuadrados_diferencias = sum([(x - media) ** 2 for x in numeros])\n",
        "desviacion_tipica = math.sqrt(suma_cuadrados_diferencias / n)\n",
        "\n",
        "print(\"Media:\", media)\n",
        "print(\"Desviación típica:\", desviacion_tipica)\n"
      ],
      "metadata": {
        "colab": {
          "base_uri": "https://localhost:8080/"
        },
        "id": "iOVpdvF_6-7S",
        "outputId": "af9b55f3-1678-4cea-9905-13609f7264cf"
      },
      "id": "iOVpdvF_6-7S",
      "execution_count": null,
      "outputs": [
        {
          "output_type": "stream",
          "name": "stdout",
          "text": [
            "Ingrese una muestra de números separados por comas: 4,6,55,3.5,2,2\n",
            "Media: 12.083333333333334\n",
            "Desviación típica: 19.240618204436387\n"
          ]
        }
      ]
    },
    {
      "cell_type": "markdown",
      "id": "27fa0945",
      "metadata": {
        "id": "27fa0945"
      },
      "source": [
        ":# Ejercicios de Diccionarios\n",
        "\n",
        "1. Escribir un programa que guarde en una variable el diccionario `{'Euro':'€', 'Dollar':'$', 'Yen':'¥'}`, pregunte al usuario por una divisa y muestre su símbolo o un mensaje de aviso si la divisa no está en el diccionario.\n",
        "\n",
        "\n",
        "2. Escribir un programa que guarde en un diccionario los precios de las frutas de la tabla, pregunte al usuario por una fruta, un número de kilos y muestre por pantalla el precio de ese número de kilos de fruta. Si la fruta no está en el diccionario debe mostrar un mensaje informando de ello.\n",
        "\n",
        "| Fruta | Precio |\n",
        "| --- | --- |\n",
        "| Plátano | 1.35 |\n",
        "| Manzana | 0.80 |\n",
        "| Pera | 0.85 |\n",
        "| Naranja | 0.70 |"
      ]
    },
    {
      "cell_type": "code",
      "source": [
        "monedas = {\"Euro\": \"€\", \"Dollar\": \"$\", \"Yen\": \"¥\"}\n",
        "divisa = input(\"Ingrese una divisa: \")\n",
        "if divisa in monedas:\n",
        "    print(\"El símbolo de\", divisa, \"es\", monedas[divisa])\n",
        "else:\n",
        "  print(\"La divisa no está disponible\")\n"
      ],
      "metadata": {
        "colab": {
          "base_uri": "https://localhost:8080/"
        },
        "id": "bOJQBvdswuSZ",
        "outputId": "67817533-59f7-4ebc-ebbf-9572b2d9dd5d"
      },
      "id": "bOJQBvdswuSZ",
      "execution_count": null,
      "outputs": [
        {
          "output_type": "stream",
          "name": "stdout",
          "text": [
            "Ingrese una divisa: Yen\n",
            "El símbolo de Yen es ¥\n"
          ]
        }
      ]
    },
    {
      "cell_type": "code",
      "source": [
        "frutas= {\"platano\": 1.35, \"manzana\" : 0.8, \"pera\": 0.85, \"naranja\": 0.7}\n",
        "fruta = input(\"Ingrese una fruta: \")\n",
        "if fruta in frutas:\n",
        "  kilos = float(input(\"Ingrese la cantidad de kilos: \"))\n",
        "  precio = frutas[fruta] * kilos\n",
        "  print(\"El precio de\", kilos, \"kilos de\", fruta, \"es\", precio)"
      ],
      "metadata": {
        "colab": {
          "base_uri": "https://localhost:8080/"
        },
        "id": "xtK44MmSlpfK",
        "outputId": "54357c53-5e45-4315-d9e3-9a50acf1eb63"
      },
      "id": "xtK44MmSlpfK",
      "execution_count": null,
      "outputs": [
        {
          "output_type": "stream",
          "name": "stdout",
          "text": [
            "0.8\n"
          ]
        }
      ]
    },
    {
      "cell_type": "markdown",
      "id": "6b9f8757",
      "metadata": {
        "id": "6b9f8757"
      },
      "source": [
        "3. Escribir un programa que cree un diccionario vacío y lo vaya llenado con información sobre una persona (por ejemplo nombre, edad, sexo, teléfono, correo electrónico, etc.) que se le pida al usuario. Cada vez que se añada un nuevo dato debe imprimirse el contenido del diccionario."
      ]
    },
    {
      "cell_type": "code",
      "source": [
        "usuario = {}\n",
        "\n",
        "usuario[\"nombre\"] = input(\"Ingrese su nombre: \")\n",
        "print(usuario)\n",
        "usuario[\"edad\"] = input(\"Ingrese su edad: \")\n",
        "print(usuario)\n",
        "usuario[\"sexo\"] = input(\"Ingrese su sexo: \")\n",
        "print(usuario)\n",
        "usuario[\"telefono\"] = input(\"Ingrese su teléfono: \")\n",
        "print(usuario)\n",
        "\n"
      ],
      "metadata": {
        "id": "MhRrExommc62",
        "colab": {
          "base_uri": "https://localhost:8080/"
        },
        "outputId": "69eb985f-8c8d-4130-d7a6-03a05132d6b6"
      },
      "id": "MhRrExommc62",
      "execution_count": null,
      "outputs": [
        {
          "output_type": "stream",
          "name": "stdout",
          "text": [
            "Ingrese su nombre: sofi\n",
            "{'nombre': 'sofi'}\n",
            "Ingrese su edad: 20\n",
            "{'nombre': 'sofi', 'edad': '20'}\n",
            "Ingrese su sexo: f\n",
            "{'nombre': 'sofi', 'edad': '20', 'sexo': 'f'}\n",
            "Ingrese su teléfono: 3624667456\n",
            "{'nombre': 'sofi', 'edad': '20', 'sexo': 'f', 'telefono': '3624667456'}\n"
          ]
        }
      ]
    },
    {
      "cell_type": "markdown",
      "id": "846125b8",
      "metadata": {
        "id": "846125b8"
      },
      "source": [
        "4. Escribir un programa que gestione las facturas pendientes de cobro de una empresa. Las facturas se almacenarán en un diccionario donde la clave de cada factura será el número de factura y el valor el coste de la factura. El programa debe preguntar al usuario si quiere añadir una nueva factura, pagar una existente o terminar. Si desea añadir una nueva factura se preguntará por el número de factura y su coste y se añadirá al diccionario. Si se desea pagar una factura se preguntará por el número de factura y se eliminará del diccionario. Después de cada operación el programa debe mostrar por pantalla la cantidad cobrada hasta el momento y la cantidad pendiente de cobro."
      ]
    },
    {
      "cell_type": "code",
      "source": [
        "facturas = {}\n",
        "facturas_cobradas = 0\n",
        "facturas_pendientes = 0\n",
        "\n",
        "opcion = int (1)\n",
        "while opcion != \"3\":\n",
        "  opcion = input(\"Ingrese 1 si desea añadir una nueva factura, 2 si desea pagar una factura y 3 para salir\")\n",
        "  if opcion == \"1\":\n",
        "    numero_factura = input(\"Ingrese el número de factura: \")\n",
        "    coste_factura = float(input(\"Ingrese el coste de la factura: \"))\n",
        "    facturas[numero_factura] = coste_factura\n",
        "    facturas_pendientes += 1\n",
        "  elif opcion == \"2\":\n",
        "    numero_factura = input(\"Ingrese el número de factura a pagar: \")\n",
        "    if numero_factura in facturas:\n",
        "      coste_factura = facturas.pop(numero_factura)\n",
        "      facturas_cobradas += 1\n",
        "      facturas_pendientes -= 1\n",
        "    else:\n",
        "      print(\"La factura no existe\")\n",
        "  else:\n",
        "    print(\"Ingrese un numero valido\")\n",
        "  print(\"Cantidad cobrada hasta el momento:\", facturas_cobradas)\n",
        "  print(\"Cantidad pendiente de cobro:\", facturas_pendientes)\n"
      ],
      "metadata": {
        "colab": {
          "base_uri": "https://localhost:8080/"
        },
        "id": "3hjulwiF1R-s",
        "outputId": "3d189f53-7507-4a09-b6cd-447bbde16896"
      },
      "id": "3hjulwiF1R-s",
      "execution_count": null,
      "outputs": [
        {
          "output_type": "stream",
          "name": "stdout",
          "text": [
            "Ingrese 1 si desea añadir una nueva factura, 2 si desea pagar una factura y 3 para salir1\n",
            "Ingrese el número de factura: 33\n",
            "Ingrese el coste de la factura: 35\n",
            "Cantidad cobrada hasta el momento: 0\n",
            "Cantidad pendiente de cobro: 1\n",
            "Ingrese 1 si desea añadir una nueva factura, 2 si desea pagar una factura y 3 para salir1\n",
            "Ingrese el número de factura: 6\n",
            "Ingrese el coste de la factura: 45\n",
            "Cantidad cobrada hasta el momento: 0\n",
            "Cantidad pendiente de cobro: 2\n",
            "Ingrese 1 si desea añadir una nueva factura, 2 si desea pagar una factura y 3 para salir2\n",
            "Ingrese el número de factura a pagar: 33\n",
            "Cantidad cobrada hasta el momento: 1\n",
            "Cantidad pendiente de cobro: 1\n",
            "Ingrese 1 si desea añadir una nueva factura, 2 si desea pagar una factura y 3 para salir3\n",
            "Ingrese un numero valido\n",
            "Cantidad cobrada hasta el momento: 1\n",
            "Cantidad pendiente de cobro: 1\n"
          ]
        }
      ]
    },
    {
      "cell_type": "markdown",
      "id": "375ac7fc",
      "metadata": {
        "id": "375ac7fc"
      },
      "source": [
        "5. El directorio de los clientes de una empresa está organizado en una cadena de texto como la de más abajo, donde cada línea contiene la información del nombre, email, teléfono, nif, y el descuento que se le aplica. Las líneas se separan con el carácter de cambio de línea \\n y la primera línea contiene los nombres de los campos con la información contenida en el directorio.\n",
        "\n",
        "`\"nif;nombre;email;teléfono;descuento\\n01234567L;Luis González;luisgonzalez@mail.com;656343576;12.5\\n71476342J;Macarena Ramírez;macarena@mail.com;692839321;8\\n63823376M;Juan José Martínez;juanjo@mail.com;664888233;5.2\\n98376547F;Carmen Sánchez;carmen@mail.com;667677855;15.7\"`\n",
        "\n",
        "Escribir un programa que genere un diccionario con la información del directorio, donde cada elemento corresponda a un cliente y tenga por clave su nif y por valor otro diccionario con el resto de la información del cliente. Los diccionarios con la información de cada cliente tendrán como claves los nombres de los campos y como valores la información de cada cliente correspondientes a los campos. Es decir, un diccionario como el siguiente\n",
        "\n",
        "`{'01234567L': {'nombre': 'Luis González', 'email': 'luisgonzalez@mail.com', 'teléfono': '656343576', 'descuento': 12.5}, '71476342J': {'nombre': 'Macarena Ramírez', 'email': 'macarena@mail.com', 'teléfono': '692839321', 'descuento': 8.0}, '63823376M': {'nombre': 'Juan José Martínez', 'email': 'juanjo@mail.com', 'teléfono': '664888233', 'descuento': 5.2}, '98376547F': {'nombre': 'Carmen Sánchez', 'email': 'carmen@mail.com', 'teléfono': '667677855', 'descuento': 15.7}}`"
      ]
    },
    {
      "cell_type": "code",
      "source": [
        "# prompt: El directorio de los clientes de una empresa está organizado en una cadena de texto como la de más abajo, donde cada línea contiene la información del nombre, email, teléfono, nif, y el descuento que se le aplica. Las líneas se separan con el carácter de cambio de línea \\n y la primera línea contiene los nombres de los campos con la información contenida en el directorio.\n",
        "# \"nif;nombre;email;teléfono;descuento\\n01234567L;Luis González;luisgonzalez@mail.com;656343576;12.5\\n71476342J;Macarena Ramírez;macarena@mail.com;692839321;8\\n63823376M;Juan José Martínez;juanjo@mail.com;664888233;5.2\\n98376547F;Carmen Sánchez;carmen@mail.com;667677855;15.7\"\n",
        "# Escribir un programa que genere un diccionario con la información del directorio, donde cada elemento corresponda a un cliente y tenga por clave su nif y por valor otro diccionario con el resto de la información del cliente. Los diccionarios con la información de cada cliente tendrán como claves los nombres de los campos y como valores la información de cada cliente correspondientes a los campos. Es decir, un diccionario como el siguiente\n",
        "# {'01234567L': {'nombre': 'Luis González', 'email': 'luisgonzalez@mail.com', 'teléfono': '656343576', 'descuento': 12.5}, '71476342J': {'nombre': 'Macarena Ramírez', 'email': 'macarena@mail.com', 'teléfono': '692839321', 'descuento': 8.0}, '63823376M': {'nombre': 'Juan José Martínez', 'email': 'juanjo@mail.com', 'teléfono': '664888233', 'descuento': 5.2}, '98376547F': {'nombre': 'Carmen Sánchez', 'email': 'carmen@mail.com', 'teléfono': '667677855', 'descuento': 15.7}}\n",
        "\n",
        "directorio_str = \"nif;nombre;email;teléfono;descuento\\n01234567L;Luis González;luisgonzalez@mail.com;656343576;12.5\\n71476342J;Macarena Ramírez;macarena@mail.com;692839321;8\\n63823376M;Juan José Martínez;juanjo@mail.com;664888233;5.2\\n98376547F;Carmen Sánchez;carmen@mail.com;667677855;15.7\"\n",
        "\n",
        "directorio = {}\n",
        "lineas = directorio_str.split('\\n')\n",
        "cabeceras = lineas[0].split(';')\n",
        "for linea in lineas[1:]:\n",
        "    if linea:\n",
        "        datos = linea.split(';')\n",
        "        nif = datos[0]\n",
        "        informacion_cliente = {}\n",
        "        for i in range(1, len(cabeceras)):\n",
        "            informacion_cliente[cabeceras[i]] = datos[i]\n",
        "        try:\n",
        "            informacion_cliente['descuento'] = float(informacion_cliente['descuento'])\n",
        "        except ValueError:\n",
        "            pass  # Manejar el error si el descuento no es un número\n",
        "\n",
        "        directorio[nif] = informacion_cliente\n",
        "\n",
        "directorio\n"
      ],
      "metadata": {
        "colab": {
          "base_uri": "https://localhost:8080/"
        },
        "id": "ZMGjKpVZ4d1P",
        "outputId": "6d7e0816-f3a2-4053-c7cc-723e90dda7b3"
      },
      "id": "ZMGjKpVZ4d1P",
      "execution_count": null,
      "outputs": [
        {
          "output_type": "execute_result",
          "data": {
            "text/plain": [
              "{'01234567L': {'nombre': 'Luis González',\n",
              "  'email': 'luisgonzalez@mail.com',\n",
              "  'teléfono': '656343576',\n",
              "  'descuento': 12.5},\n",
              " '71476342J': {'nombre': 'Macarena Ramírez',\n",
              "  'email': 'macarena@mail.com',\n",
              "  'teléfono': '692839321',\n",
              "  'descuento': 8.0},\n",
              " '63823376M': {'nombre': 'Juan José Martínez',\n",
              "  'email': 'juanjo@mail.com',\n",
              "  'teléfono': '664888233',\n",
              "  'descuento': 5.2},\n",
              " '98376547F': {'nombre': 'Carmen Sánchez',\n",
              "  'email': 'carmen@mail.com',\n",
              "  'teléfono': '667677855',\n",
              "  'descuento': 15.7}}"
            ]
          },
          "metadata": {},
          "execution_count": 6
        }
      ]
    },
    {
      "cell_type": "markdown",
      "id": "63e74656",
      "metadata": {
        "id": "63e74656"
      },
      "source": [
        "# Ejercicios de Funciones\n",
        "1. Escribir una función a la que se le pase una cadena `<nombre>` y muestre por pantalla el saludo ¡hola `<nombre>`!."
      ]
    },
    {
      "cell_type": "code",
      "execution_count": null,
      "id": "2dd2c638",
      "metadata": {
        "colab": {
          "base_uri": "https://localhost:8080/"
        },
        "id": "2dd2c638",
        "outputId": "ef015660-62aa-4c39-ee56-2a7c5bec0e50"
      },
      "outputs": [
        {
          "output_type": "stream",
          "name": "stdout",
          "text": [
            "¡hola  sele !\n"
          ]
        }
      ],
      "source": [
        "def myfunction (nombre):\n",
        "  print(\"¡hola \", nombre, \"!\")\n",
        "\n",
        "myfunction(\"sele\")"
      ]
    },
    {
      "cell_type": "markdown",
      "id": "722b0a26",
      "metadata": {
        "id": "722b0a26"
      },
      "source": [
        "2. Escribir una función que reciba un número entero positivo y devuelva su factorial."
      ]
    },
    {
      "cell_type": "code",
      "execution_count": null,
      "id": "4267cf24",
      "metadata": {
        "id": "4267cf24",
        "colab": {
          "base_uri": "https://localhost:8080/"
        },
        "outputId": "f8ad57b8-cad6-4704-dc51-f2ed39c6a44e"
      },
      "outputs": [
        {
          "output_type": "execute_result",
          "data": {
            "text/plain": [
              "120"
            ]
          },
          "metadata": {},
          "execution_count": 8
        }
      ],
      "source": [
        "def factorial (num):\n",
        "  if num == 0:\n",
        "    return 1\n",
        "  else:\n",
        "    return num * factorial(num - 1)\n",
        "factorial(5)\n"
      ]
    },
    {
      "cell_type": "markdown",
      "id": "47d396f8",
      "metadata": {
        "id": "47d396f8"
      },
      "source": [
        "3. Escribir una función que calcule el total de una factura tras aplicarle el IVA. La función debe recibir la cantidad sin IVA y el porcentaje de IVA a aplicar, y devolver el total de la factura. Si se invoca la función sin pasarle el porcentaje de IVA, deberá aplicar un 21%."
      ]
    },
    {
      "cell_type": "code",
      "execution_count": null,
      "id": "5b1d3403",
      "metadata": {
        "id": "5b1d3403",
        "colab": {
          "base_uri": "https://localhost:8080/"
        },
        "outputId": "cb88a042-f192-4436-85ee-c444e17548c7"
      },
      "outputs": [
        {
          "output_type": "execute_result",
          "data": {
            "text/plain": [
              "121.0"
            ]
          },
          "metadata": {},
          "execution_count": 1
        }
      ],
      "source": [
        "def total_factura(cantidad_sin_iva, porcentaje_iva=21):\n",
        "    total_factura = cantidad_sin_iva * (1 + porcentaje_iva / 100)\n",
        "    return total_factura\n",
        "\n",
        "total_factura(10)"
      ]
    },
    {
      "cell_type": "markdown",
      "id": "2adda5aa",
      "metadata": {
        "id": "2adda5aa"
      },
      "source": [
        "4. Escribir una función que calcule el área de un círculo y otra que calcule el volumen de un cilindro usando la primera función."
      ]
    },
    {
      "cell_type": "code",
      "execution_count": null,
      "id": "1ea2788a",
      "metadata": {
        "id": "1ea2788a",
        "colab": {
          "base_uri": "https://localhost:8080/"
        },
        "outputId": "a78586d5-1e8d-461c-cd7f-101893b75b5b"
      },
      "outputs": [
        {
          "output_type": "execute_result",
          "data": {
            "text/plain": [
              "785.0"
            ]
          },
          "metadata": {},
          "execution_count": 5
        }
      ],
      "source": [
        "def area_circulo(radio):\n",
        "    return 3.14 * radio ** 2\n",
        "\n",
        "def volumen_cilindro(radio, altura):\n",
        "    area_base = area_circulo(radio)\n",
        "    volumen = area_base * altura\n",
        "    return volumen\n",
        "volumen_cilindro(5, 10)\n"
      ]
    },
    {
      "cell_type": "markdown",
      "id": "8399cb23",
      "metadata": {
        "id": "8399cb23"
      },
      "source": [
        "5. Escribir una función que reciba una muestra de números en una lista y devuelva su media."
      ]
    },
    {
      "cell_type": "code",
      "execution_count": null,
      "id": "cf3fa76b",
      "metadata": {
        "id": "cf3fa76b",
        "colab": {
          "base_uri": "https://localhost:8080/"
        },
        "outputId": "2cecfb86-6ef8-4d4f-e8ac-4bb7139fbe05"
      },
      "outputs": [
        {
          "output_type": "execute_result",
          "data": {
            "text/plain": [
              "3.0"
            ]
          },
          "metadata": {},
          "execution_count": 6
        }
      ],
      "source": [
        "def calcular_media(lista):\n",
        "    suma = sum(lista)\n",
        "    media = suma / len(lista)\n",
        "    return media\n",
        "calcular_media([1,2,3,4,5])"
      ]
    },
    {
      "cell_type": "markdown",
      "id": "0549988a",
      "metadata": {
        "id": "0549988a"
      },
      "source": [
        "\n",
        "\n",
        "```\n",
        "# Tiene formato de código\n",
        "```\n",
        "\n",
        "6. Escribir una función que reciba una muestra de números en una lista y devuelva otra lista con sus cuadrados."
      ]
    },
    {
      "cell_type": "code",
      "execution_count": null,
      "id": "296a235c",
      "metadata": {
        "id": "296a235c",
        "colab": {
          "base_uri": "https://localhost:8080/"
        },
        "outputId": "7e593a70-8611-4774-bdc3-de66b85d24e9"
      },
      "outputs": [
        {
          "output_type": "execute_result",
          "data": {
            "text/plain": [
              "[1, 4, 9, 16, 25]"
            ]
          },
          "metadata": {},
          "execution_count": 9
        }
      ],
      "source": [
        "def cuadrados(lista):\n",
        "    resultado = []\n",
        "    for x in lista:\n",
        "        resultado.append(x**2)\n",
        "    return resultado\n",
        "\n",
        "muestra = [1, 2, 3, 4, 5]\n",
        "cuadrados(muestra)"
      ]
    },
    {
      "cell_type": "markdown",
      "id": "957f415a",
      "metadata": {
        "id": "957f415a"
      },
      "source": [
        "7. Escribir una función que reciba una muestra de números en una lista y devuelva un diccionario con su media, varianza y desviación típica."
      ]
    },
    {
      "cell_type": "code",
      "execution_count": null,
      "id": "7d18dd65",
      "metadata": {
        "id": "7d18dd65"
      },
      "outputs": [],
      "source": [
        "import math\n",
        "\n",
        "def estadisticas(lista):\n",
        "    n = len(lista)\n",
        "    media = sum(lista) / n  # Media aritmética\n",
        "    varianza = sum((x - media) ** 2 for x in lista) / n  # Varianza\n",
        "    desviacion = math.sqrt(varianza)  # Desviación típica\n",
        "\n",
        "    return {\"media\": media, \"varianza\": varianza, \"desviación típica\": desviacion}"
      ]
    },
    {
      "cell_type": "markdown",
      "id": "a398d9f2",
      "metadata": {
        "id": "a398d9f2"
      },
      "source": [
        "8. Escribir una función que calcule el máximo común divisor de dos números y otra que calcule el mínimo común múltiplo."
      ]
    },
    {
      "cell_type": "code",
      "execution_count": null,
      "id": "5d4145e8",
      "metadata": {
        "id": "5d4145e8",
        "colab": {
          "base_uri": "https://localhost:8080/"
        },
        "outputId": "2ae016dc-981f-4de4-b702-4e07f391cc54"
      },
      "outputs": [
        {
          "output_type": "stream",
          "name": "stdout",
          "text": [
            "MCD: 6\n",
            "MCM: 36\n"
          ]
        }
      ],
      "source": [
        "def mcd(a, b):\n",
        "    while b:\n",
        "        a, b = b, a % b\n",
        "    return a\n",
        "\n",
        "def mcm(a, b):\n",
        "  return (a * b) // mcd(a, b)\n",
        "num1, num2 = 12, 18\n",
        "print(\"MCD:\", mcd(num1, num2))\n",
        "print(\"MCM:\", mcm(num1, num2))"
      ]
    },
    {
      "cell_type": "markdown",
      "id": "dd92251a",
      "metadata": {
        "id": "dd92251a"
      },
      "source": [
        "9. Escribir una función que convierta un número decimal en binario y otra que convierta un número binario en decimal."
      ]
    },
    {
      "cell_type": "code",
      "execution_count": null,
      "id": "65361ad8",
      "metadata": {
        "id": "65361ad8",
        "colab": {
          "base_uri": "https://localhost:8080/"
        },
        "outputId": "9dee0b82-5f20-4e39-d768-4d758e5d6d82"
      },
      "outputs": [
        {
          "output_type": "stream",
          "name": "stdout",
          "text": [
            "11001\n",
            "25\n"
          ]
        }
      ],
      "source": [
        "def decimal_a_binario(n):\n",
        "    binario = \"\"\n",
        "    while n > 0:\n",
        "        binario = str(n % 2) + binario\n",
        "        n //= 2\n",
        "    return binario if binario else \"0\"\n",
        "\n",
        "def binario_a_decimal(b):\n",
        "    decimal = 0\n",
        "    for i, digito in enumerate(reversed(b)):  # Recorrer de derecha a izquierda\n",
        "        decimal += int(digito) * (2 ** i)  # Multiplicar por la potencia de 2\n",
        "    return decimal\n",
        "\n",
        "print(decimal_a_binario(25))\n",
        "print(binario_a_decimal(\"11001\"))"
      ]
    },
    {
      "cell_type": "markdown",
      "id": "31f0a4da",
      "metadata": {
        "id": "31f0a4da"
      },
      "source": [
        "10. Escribir un programa que reciba una cadena de caracteres y devuelva un diccionario con cada palabra que contiene y su frecuencia. Escribir otra función que reciba el diccionario generado con la función anterior y devuelva una tupla con la palabra más repetida y su frecuencia."
      ]
    },
    {
      "cell_type": "code",
      "execution_count": null,
      "id": "01eb5cd3",
      "metadata": {
        "id": "01eb5cd3",
        "colab": {
          "base_uri": "https://localhost:8080/"
        },
        "outputId": "de6a06b0-a622-4dc2-fc85-03c3cee9d507"
      },
      "outputs": [
        {
          "output_type": "stream",
          "name": "stdout",
          "text": [
            "{'hola': 1, 'mundo': 2, 'me': 1, 'encanta': 1, 'la': 1, 'clase': 1, 'de': 1, 'sistemas': 1, 'inteligentes': 1, 'es': 1, 'lo': 1, 'mejor': 1, 'del': 1}\n",
            "('mundo', 2)\n"
          ]
        }
      ],
      "source": [
        "def contar_palabras(texto):\n",
        "    palabras = texto.lower().split()  # Convertir a minúsculas y dividir por espacios\n",
        "    frecuencia = {}\n",
        "\n",
        "    for palabra in palabras:\n",
        "        palabra = palabra.strip(\",.?!¡¿\")  # Eliminar signos de puntuación\n",
        "        frecuencia[palabra] = frecuencia.get(palabra, 0) + 1  # Contar frecuencia\n",
        "\n",
        "    return frecuencia\n",
        "\n",
        "def palabra_mas_repetida(diccionario):\n",
        "    return max(diccionario.items(), key=lambda x: x[1])\n",
        "\n",
        "texto = \"Hola mundo, me encanta la clase de sistemas inteligentes, es lo mejor del mundo \"\n",
        "frecuencias = contar_palabras(texto)\n",
        "print(frecuencias)\n",
        "mas_repetida = palabra_mas_repetida(frecuencias)\n",
        "print(mas_repetida)"
      ]
    }
  ],
  "metadata": {
    "kernelspec": {
      "display_name": "Python 3 (ipykernel)",
      "language": "python",
      "name": "python3"
    },
    "language_info": {
      "codemirror_mode": {
        "name": "ipython",
        "version": 3
      },
      "file_extension": ".py",
      "mimetype": "text/x-python",
      "name": "python",
      "nbconvert_exporter": "python",
      "pygments_lexer": "ipython3",
      "version": "3.9.12"
    },
    "colab": {
      "provenance": [],
      "include_colab_link": true
    }
  },
  "nbformat": 4,
  "nbformat_minor": 5
}